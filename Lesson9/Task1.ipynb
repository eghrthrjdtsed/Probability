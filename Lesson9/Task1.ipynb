{
 "cells": [
  {
   "cell_type": "code",
   "execution_count": null,
   "metadata": {},
   "outputs": [],
   "source": [
    "'''Даны значения величины заработной платы заемщиков банка (zp) и значения их поведенческого кредитного скоринга (ks): \n",
    "zp = [35, 45, 190, 200, 40, 70, 54, 150, 120, 110], \n",
    "ks = [401, 574, 874, 919, 459, 739, 653, 902, 746, 832]. \n",
    "Используя математические операции, посчитать коэффициенты линейной регрессии, приняв за X заработную плату \n",
    "(то есть, zp - признак), а за y - значения скорингового балла (то есть, ks - целевая переменная). \n",
    "Произвести расчет как с использованием intercept, так и без.'''"
   ]
  },
  {
   "cell_type": "code",
   "execution_count": 53,
   "metadata": {},
   "outputs": [
    {
     "name": "stdout",
     "output_type": "stream",
     "text": [
      "[[  1.  35.]\n",
      " [  1.  45.]\n",
      " [  1. 190.]\n",
      " [  1. 200.]\n",
      " [  1.  40.]\n",
      " [  1.  70.]\n",
      " [  1.  54.]\n",
      " [  1. 150.]\n",
      " [  1. 120.]\n",
      " [  1. 110.]]\n",
      "[[444.17735732]\n",
      " [  2.62053888]]\n",
      "B1: 2.620538882402765\n",
      "B0: 444.1773573243596\n",
      "Iteration = 0, B1 = 0.25952808, mse = 493237.7212546963\n",
      "Iteration = 500, B1 = 5.889815595583751, mse = 56516.858416040064\n",
      "Iteration = 1000, B1 = 5.8898204201285544, mse = 56516.85841571941\n",
      "Iteration = 1500, B1 = 5.889820420132673, mse = 56516.85841571943\n",
      "Iteration = 2000, B1 = 5.889820420132673, mse = 56516.85841571943\n",
      "Iteration = 2500, B1 = 5.889820420132673, mse = 56516.85841571943\n",
      "\n",
      "Iteration = 0, B1 = 0.2595078, B0 = 0.25511284968504, mse = 492892.14933292643\n",
      "Iteration = 500, B1 = 5.847939119406923, B0 = 5.689565003262093, mse = 55242.958121947435\n",
      "Iteration = 1000, B1 = 5.847943446276081, B0 = 5.68956921091216, mse = 55242.95718566068\n",
      "Iteration = 1500, B1 = 5.847943446279413, B0 = 5.6895692109154, mse = 55242.95718565994\n",
      "Iteration = 2000, B1 = 5.847943446279413, B0 = 5.6895692109154, mse = 55242.95718565994\n",
      "Iteration = 2500, B1 = 5.847943446279413, B0 = 5.6895692109154, mse = 55242.95718565994\n"
     ]
    }
   ],
   "source": [
    "import numpy as np\n",
    "import scipy.stats as stats \n",
    "import matplotlib.pyplot as plt\n",
    "from sklearn.linear_model import LinearRegression\n",
    "import statsmodels.api as sm\n",
    "\n",
    "\n",
    "zp = np.array([35, 45, 190, 200, 40, 70, 54, 150, 120, 110])\n",
    "ks = np.array([401, 574, 874, 919, 459, 739, 653, 902, 746, 832])\n",
    "\n",
    "X = zp.reshape(10, 1)\n",
    "Y = ks.reshape(10, 1)\n",
    "\n",
    "\n",
    "\n",
    "x_x = np.hstack([np.ones((10, 1)), X])\n",
    "print(x_x) #Матричный метод расчета коэффициентов линейной регрессии\n",
    "\n",
    "b = np.dot(np.linalg.inv(np.dot(x_x.T, x_x)), x_x.T @ Y)\n",
    "print(b) #Так же выводим коэффициенты\n",
    "\n",
    "B1 = (np.mean(zp * ks) - np.mean(zp) * np.mean(ks)) / (np.mean(zp **2) - np.mean(zp) ** 2)\n",
    "print(f\"B1: {B1}\") #Выводим коэффициент\n",
    "\n",
    "B0 = np.mean(ks) - B1 * np.mean(zp)\n",
    "print(f\"B0: {B0}\") #Выводим интерцепт\n",
    "\n",
    "def mse_(B1, y = ks, x = zp, n = 10):\n",
    "    return np.sum((B1*x - y)**2) / n\n",
    "\n",
    "mse = mse_(B1, y = ks, x = zp, n = 10)\n",
    "alpha = 1e-6\n",
    "B1 = 0.1\n",
    "n = 10\n",
    "for i in range(3000):\n",
    "    B1 -= alpha * (2/n) * np.sum((B1 * zp - ks) * zp) \n",
    "    if i % 500 == 0:\n",
    "        print ('Iteration = {i}, B1 = {B1}, mse = {mse}'.format(i = i, B1 = B1, mse = mse_(B1)))\n",
    "    \n",
    "print()\n",
    "\n",
    "def mse_1(B1, B0, y = ks, x = zp, n = 10):\n",
    "    return np.sum((B0 + B1*x - y)**2)/n\n",
    "B0 = 0.1\n",
    "B1 = 0.1\n",
    "for i in range (3000):\n",
    "    B1 -= alpha * (2/n) * np.sum ((B0 + B1 * zp - ks) * zp)\n",
    "    B0 -= alpha * (2/n) * np.sum ((B0 + B1 * zp - ks) * zp)\n",
    "    if i % 500 == 0:\n",
    "        print ('Iteration = {i}, B1 = {B1}, B0 = {B0}, mse = {mse}'.format(i = i, B1 = B1, B0 = B0, mse = mse_1(B1, B0)))\n",
    "\n",
    "\n",
    "\n"
   ]
  },
  {
   "cell_type": "code",
   "execution_count": 54,
   "metadata": {},
   "outputs": [
    {
     "name": "stdout",
     "output_type": "stream",
     "text": [
      "x [[  1.  35.]\n",
      " [  1.  45.]\n",
      " [  1. 190.]\n",
      " [  1. 200.]\n",
      " [  1.  40.]\n",
      " [  1.  70.]\n",
      " [  1.  54.]\n",
      " [  1. 150.]\n",
      " [  1. 120.]\n",
      " [  1. 110.]]\n",
      "                            OLS Regression Results                            \n",
      "==============================================================================\n",
      "Dep. Variable:                      y   R-squared:                       0.788\n",
      "Model:                            OLS   Adj. R-squared:                  0.761\n",
      "Method:                 Least Squares   F-statistic:                     29.67\n",
      "Date:                Sun, 12 Mar 2023   Prob (F-statistic):           0.000611\n",
      "Time:                        18:54:43   Log-Likelihood:                -58.064\n",
      "No. Observations:                  10   AIC:                             120.1\n",
      "Df Residuals:                       8   BIC:                             120.7\n",
      "Df Model:                           1                                         \n",
      "Covariance Type:            nonrobust                                         \n",
      "==============================================================================\n",
      "                 coef    std err          t      P>|t|      [0.025      0.975]\n",
      "------------------------------------------------------------------------------\n",
      "const        444.1774     56.466      7.866      0.000     313.965     574.389\n",
      "x1             2.6205      0.481      5.447      0.001       1.511       3.730\n",
      "==============================================================================\n",
      "Omnibus:                        1.365   Durbin-Watson:                   1.407\n",
      "Prob(Omnibus):                  0.505   Jarque-Bera (JB):                0.725\n",
      "Skew:                          -0.130   Prob(JB):                        0.696\n",
      "Kurtosis:                       1.707   Cond. No.                         233.\n",
      "==============================================================================\n",
      "\n",
      "Notes:\n",
      "[1] Standard Errors assume that the covariance matrix of the errors is correctly specified.\n"
     ]
    },
    {
     "name": "stderr",
     "output_type": "stream",
     "text": [
      "c:\\Users\\Сергей\\AppData\\Local\\Programs\\Python\\Python311\\Lib\\site-packages\\scipy\\stats\\_stats_py.py:1736: UserWarning: kurtosistest only valid for n>=20 ... continuing anyway, n=10\n",
      "  warnings.warn(\"kurtosistest only valid for n>=20 ... continuing \"\n"
     ]
    }
   ],
   "source": [
    "x = sm.add_constant(X)\n",
    "print(f'x {x}')\n",
    "model = sm.OLS(Y, x)\n",
    "result = model.fit()\n",
    "print(result.summary())"
   ]
  },
  {
   "cell_type": "code",
   "execution_count": 56,
   "metadata": {},
   "outputs": [
    {
     "name": "stdout",
     "output_type": "stream",
     "text": [
      "R-squared: 0.7876386635293686\n",
      "intercept: [444.17735732]\n",
      "coef: [2.62053888]\n"
     ]
    },
    {
     "data": {
      "image/png": "[encoded data removed]",
      "text/plain": [
       "<Figure size 640x480 with 1 Axes>"
      ]
     },
     "metadata": {},
     "output_type": "display_data"
    }
   ],
   "source": [
    "model = LinearRegression()\n",
    "# x = zp.reshape(-1, 1)\n",
    "model.fit(X, Y)\n",
    "r_sq = model.score(X, Y) #Коэффициент детерминации\n",
    "print(f\"R-squared: {r_sq}\") # На 78.8 % зарплата влияет на значения крединого скоринга \n",
    "\n",
    "\n",
    "\n",
    "const = model.intercept_ #Подбираем коэффициенты\n",
    "beta = model.coef_[0]\n",
    "print(f\"intercept: {const}\") #Выводим интерцепт\n",
    "print(f\"coef: {beta}\") #Выводим коэффициент\n",
    "\n",
    "plt.scatter(X, Y)\n",
    "plt.plot(X, beta * X + const, 'g' )\n",
    "plt.title(f\"r2 = {round(r_sq, 3)}\")\n",
    "plt.xlabel('x')\n",
    "plt.ylabel('y')\n",
    "plt.show()"
   ]
  }
 ],
 "metadata": {
  "kernelspec": {
   "display_name": "Python 3.11.0 64-bit",
   "language": "python",
   "name": "python3"
  },
  "language_info": {
   "codemirror_mode": {
    "name": "ipython",
    "version": 3
   },
   "file_extension": ".py",
   "mimetype": "text/x-python",
   "name": "python",
   "nbconvert_exporter": "python",
   "pygments_lexer": "ipython3",
   "version": "3.11.2"
  },
  "orig_nbformat": 4,
  "vscode": {
   "interpreter": {
    "hash": "1c629eccfdf8545529de563785dace1040dd62c38aa3fb6e09c82c51165828e0"
   }
  }
 },
 "nbformat": 4,
 "nbformat_minor": 2
}
