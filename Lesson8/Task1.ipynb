{
 "cells": [
  {
   "cell_type": "code",
   "execution_count": 9,
   "metadata": {},
   "outputs": [
    {
     "name": "stdout",
     "output_type": "stream",
     "text": [
      "cov: 0.8874900920739159\n",
      "[[ 3882.93333333 10175.37777778]\n",
      " [10175.37777778 33854.32222222]]\n",
      "std zp: 62.31318747531162\n",
      "std ks: 183.99544076477068\n",
      "cov: 9157.839999999997\n",
      "cov: [[ 3882.93333333 10175.37777778]\n",
      " [10175.37777778 33854.32222222]]\n",
      "corrcoef: 0.88749009\n",
      "r: [[1.         0.88749009]\n",
      " [0.88749009 1.        ]]\n",
      "SignificanceResult(statistic=0.9757575757575757, pvalue=1.4675461874042197e-06)\n"
     ]
    },
    {
     "data": {
      "image/png": "[encoded data removed]",
      "text/plain": [
       "<Figure size 640x480 with 1 Axes>"
      ]
     },
     "metadata": {},
     "output_type": "display_data"
    }
   ],
   "source": [
    "'''Даны значения величины заработной платы заемщиков банка (zp) и значения их поведенческого кредитного скоринга (ks):\n",
    "zp = [35, 45, 190, 200, 40, 70, 54, 150, 120, 110],\n",
    "ks = [401, 574, 874, 919, 459, 739, 653, 902, 746, 832].\n",
    "Найдите ковариацию этих двух величин с помощью элементарных действий, а затем с помощью функции cov из numpy\n",
    "Полученные значения должны быть равны. Найдите коэффициент корреляции Пирсона с помощью ковариации и \n",
    "среднеквадратичных отклонений двух признаков, \n",
    "а затем с использованием функций из библиотек numpy и pandas.'''\n",
    "\n",
    "import numpy as np\n",
    "import scipy.stats as stats \n",
    "import matplotlib.pyplot as plt\n",
    "import pandas as pd\n",
    "\n",
    "\n",
    "zp = np.array([35, 45, 190, 200, 40, 70, 54, 150, 120, 110])\n",
    "ks = np.array([401, 574, 874, 919, 459, 739, 653, 902, 746, 832])\n",
    "\n",
    "df = pd.DataFrame({'zpp': [35, 45, 190, 200, 40, 70, 54, 150, 120, 110],\n",
    "'ksp': [401, 574, 874, 919, 459, 739, 653, 902, 746, 832]})\n",
    "\n",
    "print(f\"cov: {df['zpp']. corr(df['ksp'])}\")\n",
    "\n",
    "print(np.cov(zp, ks, ddof=1))\n",
    "print(f\"std zp: {np.std(zp, ddof=1)}\")\n",
    "print(f\"std ks: {np.std(ks, ddof=1)}\")\n",
    "\n",
    "cov = np.mean(zp * ks) - np.mean(zp) * np.mean(ks)\n",
    "print(f\"cov: {cov}\") #Смещенная\n",
    "\n",
    "print(f\"cov: {np.cov(zp, ks)}\")\n",
    "\n",
    "corrcoef = 10175.37777778 / (62.31318747531162 * 183.99544076477068)\n",
    "print(f\"corrcoef: {corrcoef:.8f}\")\n",
    "\n",
    "r = np.corrcoef(zp, ks)\n",
    "print(f\"r: {r}\")\n",
    "\n",
    "print(stats.spearmanr(zp, ks))\n",
    "\n",
    "plt.scatter(zp, ks)\n",
    "plt.title(f\"r = {round(r[0][1], 3)}\")\n",
    "plt.xlabel('x')\n",
    "plt.ylabel('y')\n",
    "plt.show()\n",
    "\n"
   ]
  },
  {
   "cell_type": "code",
   "execution_count": null,
   "metadata": {},
   "outputs": [],
   "source": [
    "# Мы видим из графика, что линейная взаимосвязь двух показателей есть, взаимосвязь прямая, \n",
    "# зависимость очень сильная 0.9757. С увеличением зарплаты\n",
    "# растет значение поведенческого кредитного скоринга, чем выше бал, тем больше вероятность\n",
    "# одобрения заявки. Скоринговый балл – это показатель платежеспособности заемщика."
   ]
  }
 ],
 "metadata": {
  "kernelspec": {
   "display_name": "Python 3.11.0 64-bit",
   "language": "python",
   "name": "python3"
  },
  "language_info": {
   "codemirror_mode": {
    "name": "ipython",
    "version": 3
   },
   "file_extension": ".py",
   "mimetype": "text/x-python",
   "name": "python",
   "nbconvert_exporter": "python",
   "pygments_lexer": "ipython3",
   "version": "3.11.0"
  },
  "orig_nbformat": 4,
  "vscode": {
   "interpreter": {
    "hash": "1c629eccfdf8545529de563785dace1040dd62c38aa3fb6e09c82c51165828e0"
   }
  }
 },
 "nbformat": 4,
 "nbformat_minor": 2
}
