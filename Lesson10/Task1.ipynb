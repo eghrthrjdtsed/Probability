{
 "cells": [
  {
   "cell_type": "code",
   "execution_count": null,
   "metadata": {},
   "outputs": [],
   "source": [
    "'''Провести дисперсионный анализ для определения того, есть ли различия среднего роста среди взрослых футболистов, \n",
    "хоккеистов и штангистов. Даны значения роста в трех группах случайно выбранных спортсменов:\n",
    "Футболисты: 173, 175, 180, 178, 177, 185, 183, 182.\n",
    "Хоккеисты: 177, 179, 180, 188, 177, 172, 171, 184, 180.\n",
    "Штангисты: 172, 173, 169, 177, 166, 180, 178, 177, 172, 166, 170.'''"
   ]
  },
  {
   "cell_type": "code",
   "execution_count": 12,
   "metadata": {},
   "outputs": [
    {
     "name": "stdout",
     "output_type": "stream",
     "text": [
      "179.125\n",
      "178.66666666666666\n",
      "172.72727272727272\n",
      "F_onewayResult(statistic=5.500053450812596, pvalue=0.010482206918698693)\n",
      "ShapiroResult(statistic=0.9775082468986511, pvalue=0.9495404362678528)\n",
      "ShapiroResult(statistic=0.9579196572303772, pvalue=0.7763139009475708)\n",
      "ShapiroResult(statistic=0.9386808276176453, pvalue=0.5051165223121643)\n",
      "BartlettResult(statistic=0.4640521043406442, pvalue=0.7929254656083131)\n",
      "KruskalResult(statistic=7.897493213863828, pvalue=0.01927885061595347)\n"
     ]
    }
   ],
   "source": [
    "import numpy as np\n",
    "import scipy.stats as ss\n",
    "\n",
    "\n",
    "\n",
    "\n",
    "y1 = np.array([173, 175, 180, 178, 177, 185, 183, 182])\n",
    "y2 = np.array([177, 179, 180, 188, 177, 172, 171, 184, 180])\n",
    "y3 = np.array([172, 173, 169, 177, 166, 180, 178, 177, 172, 166, 170])\n",
    "\n",
    "print(np.mean(y1))\n",
    "print(np.mean(y2))\n",
    "print(np.mean(y3))\n",
    "#Дисперсионный анализ\n",
    "print(ss.f_oneway(y1, y2, y3))\n",
    "\n",
    "#Тест на нормальность \n",
    "print(ss.shapiro(y1)) \n",
    "print(ss.shapiro(y2))\n",
    "print(ss.shapiro(y3))\n",
    "\n",
    "#Проверка на равенство дисперсий\n",
    "print(ss.bartlett(y1, y2, y3))\n",
    "# Тест Крускала\n",
    "print(ss.kruskal(y1, y2, y3))\n"
   ]
  },
  {
   "cell_type": "code",
   "execution_count": null,
   "metadata": {},
   "outputs": [],
   "source": [
    "# Статистически значимые различия среднего роста среди взрослых футболистов, хоккеистов и штангистов есть, \n",
    "# pvalue=0.010482 < alpha, H0 отвергается на уровне значимости 0.05 скорее всего различия статистически значимые \n",
    "# между футболистами и штангистами, хоккеистами и штангистами.\n",
    "# Распределение нормальное. pvalue > alpha\n",
    "# Дисперсии равны pvalue=0.79 > alpha H0 не отвергается, в целом различий нет\n",
    "# Дополнительно проведем тест Post hoc test Tukey для определения статистических различий между выбранных групп спортсменов"
   ]
  },
  {
   "cell_type": "code",
   "execution_count": 39,
   "metadata": {},
   "outputs": [
    {
     "name": "stdout",
     "output_type": "stream",
     "text": [
      "    Multiple Comparison of Means - Tukey HSD, FWER=0.05     \n",
      "============================================================\n",
      "  group1     group2  meandiff p-adj   lower    upper  reject\n",
      "------------------------------------------------------------\n",
      "Футболисты Хоккеисты  -0.4583  0.979  -6.2732  5.3566  False\n",
      "Футболисты Штангисты  -6.3977 0.0219 -11.9583 -0.8372   True\n",
      " Хоккеисты Штангисты  -5.9394 0.0284 -11.3181 -0.5607   True\n",
      "------------------------------------------------------------\n"
     ]
    }
   ],
   "source": [
    "from statsmodels.stats.multicomp import pairwise_tukeyhsd\n",
    "import pandas as pd\n",
    "\n",
    "\n",
    "df = pd.DataFrame({'height': [173, 175, 180, 178, 177, 185, 183, 182,\n",
    "    177, 179, 180, 188, 177, 172, 171, 184, 180,\n",
    "    172, 173, 169, 177, 166, 180, 178, 177, 172, 166, 170],\n",
    "'Athletes': np.repeat(['Футболисты', 'Хоккеисты', 'Штангисты'], repeats=[8, 9, 11])})\n",
    "# print(df)\n",
    "tukey = pairwise_tukeyhsd(endog=df['height'], groups=df['Athletes'], alpha=0.05)\n",
    "print(tukey)"
   ]
  },
  {
   "cell_type": "code",
   "execution_count": null,
   "metadata": {},
   "outputs": [],
   "source": [
    "# Разиличий между средним ростом среди футболистов и хоккеистов нет p-value > alpha H0 не отвергается на уровне значимости 0.05\n",
    "# В остальных случаях различия имеются p-value < alpha H0 отвергается на уровне значимости 0.05"
   ]
  }
 ],
 "metadata": {
  "kernelspec": {
   "display_name": "Python 3.11.2 64-bit",
   "language": "python",
   "name": "python3"
  },
  "language_info": {
   "codemirror_mode": {
    "name": "ipython",
    "version": 3
   },
   "file_extension": ".py",
   "mimetype": "text/x-python",
   "name": "python",
   "nbconvert_exporter": "python",
   "pygments_lexer": "ipython3",
   "version": "3.11.2"
  },
  "orig_nbformat": 4,
  "vscode": {
   "interpreter": {
    "hash": "1c629eccfdf8545529de563785dace1040dd62c38aa3fb6e09c82c51165828e0"
   }
  }
 },
 "nbformat": 4,
 "nbformat_minor": 2
}
